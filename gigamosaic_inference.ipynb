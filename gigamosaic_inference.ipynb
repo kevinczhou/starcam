{
 "cells": [
  {
   "cell_type": "code",
   "execution_count": null,
   "metadata": {},
   "outputs": [],
   "source": [
    "import numpy as np\n",
    "import os\n",
    "# os.environ[\"CUDA_VISIBLE_DEVICES\"] = ''  # restrict GPU usage\n",
    "import matplotlib.pyplot as plt\n",
    "import matplotlib\n",
    "import cv2\n",
    "import tensorflow as tf\n",
    "from tqdm.notebook import tqdm\n",
    "from zstitch_gigamosaic import gmosaic\n",
    "import imageio\n",
    "from zstitch import get_z_step_mm"
   ]
  },
  {
   "cell_type": "code",
   "execution_count": null,
   "metadata": {},
   "outputs": [],
   "source": [
    "# pick a sample:\n",
    "sample_id = 'chair_painting'  # 'chair_painting', 'PCB', 'BGA', or 'PGA'\n",
    "\n",
    "if sample_id == 'chair_painting':\n",
    "    directory = '/data/20220213_chair_painting/'\n",
    "    restore_path = '/data/20220213_green_noise_target/flat_ref_optimized_params.mat'\n",
    "    tf_ckpt_path = '/data/20220213_chair_painting/CNN_ckpts'\n",
    "elif sample_id == 'PCB':\n",
    "    directory = '/data/20211219_PCB_160B_rechunked/'\n",
    "    restore_path = '/data/20211219_green_noise_target/flat_ref_optimized_params.mat'\n",
    "    tf_ckpt_path = '/data/20211219_PCB_160B_rechunked/CNN_ckpts'\n",
    "elif sample_id == 'BGA':\n",
    "    directory = '/data/20220207_bga_chips/'\n",
    "    restore_path = '/data/20220207_green_noise_target/flat_ref_optimized_params.mat'\n",
    "    tf_ckpt_path = '/data/20220207_bga_chips/CNN_ckpts'\n",
    "elif sample_id == 'PGA':\n",
    "    directory = '/data/20220217_pin_array'\n",
    "    restore_path = '/data/20220217_green_noise_target/flat_ref_optimized_params.mat'\n",
    "    tf_ckpt_path = '/data/20220217_pin_array/CNN_ckpts'\n",
    "else:\n",
    "    raise Exception('invalid sample_id')\n",
    "\n",
    "use_CNN_prediction_for_3d = True  # otherwise, create sharpness map\n",
    "skip_blending = False\n",
    "ignore_3d = False  # if True, then only use homographic params\n",
    "\n",
    "# these are for if use_CNN_prediction_for_3d is False; otherwise, ignored:\n",
    "sigma = 8\n",
    "truncate = 2\n",
    "\n",
    "if not ignore_3d:\n",
    "    z_index_ref = 'full'\n",
    "else:\n",
    "    z_index_ref = None\n",
    "    \n",
    "# CNN architecture:\n",
    "filters_list = np.array([32, 32, 32, 64, 64, 64])\n",
    "skip_list = [0] * len(filters_list)"
   ]
  },
  {
   "cell_type": "markdown",
   "metadata": {},
   "source": [
    "## Generate gigamosaic"
   ]
  },
  {
   "cell_type": "code",
   "execution_count": null,
   "metadata": {},
   "outputs": [],
   "source": [
    "a = gmosaic(directory, restore_path, z_index_ref=z_index_ref,\n",
    "            use_CNN_prediction_for_3d=use_CNN_prediction_for_3d)\n",
    "a.load_camera_parameters()\n",
    "if not ignore_3d:\n",
    "    a.create_network(filters_list, skip_list, tf_ckpt_path=tf_ckpt_path)\n",
    "a.create_tf_dataset(prefetch=-1)"
   ]
  },
  {
   "cell_type": "code",
   "execution_count": null,
   "metadata": {
    "scrolled": true
   },
   "outputs": [],
   "source": [
    "# this has to be run on a GPU: scatter_nd behaves differently on GPU vs CPU in terms of out-of-bound coordinates\n",
    "gigamosaic, normalize = a.generate_gigamosaic(ignore_3d=ignore_3d, sigma=sigma, truncate=truncate, margin=35,\n",
    "                                              skip_blending=skip_blending)"
   ]
  },
  {
   "cell_type": "code",
   "execution_count": null,
   "metadata": {},
   "outputs": [],
   "source": [
    "# normalization:\n",
    "for i in tqdm(range(gigamosaic.shape[-1])):\n",
    "    # for-loop rather than broadcasting to save memory\n",
    "    gigamosaic[..., i] = gigamosaic[..., i] / (normalize + 1e-7)"
   ]
  },
  {
   "cell_type": "code",
   "execution_count": null,
   "metadata": {},
   "outputs": [],
   "source": [
    "# unpack the tensorflow output:\n",
    "gigamosaic_np = gigamosaic[:, :, :3].astype(np.uint8)\n",
    "if not ignore_3d:\n",
    "    height_map = gigamosaic[:, :, 3]\n",
    "    if not use_CNN_prediction_for_3d:\n",
    "        sharpness_map = gigamosaic[:, :, 4]"
   ]
  },
  {
   "cell_type": "code",
   "execution_count": null,
   "metadata": {},
   "outputs": [],
   "source": [
    "# determine height range:\n",
    "height_map_downsamp = height_map[::20, ::20]\n",
    "cmax = height_map_downsamp[height_map_downsamp!=0].max()\n",
    "cmin = height_map_downsamp[height_map_downsamp!=0].min()\n",
    "crange = cmax - cmin\n",
    "\n",
    "# height map normalized between 0 and 255 for saving as rgb image:\n",
    "height_map_ = np.clip(1 - (height_map - cmin) / crange, 0, 1)  # rescale between 0 and 1\n",
    "height_map_normalized = np.uint8(height_map_ * 255)\n",
    "\n",
    "# height map in mm:\n",
    "z_step_mm = get_z_step_mm(directory)\n",
    "height_map_float32 = height_map_ * crange * z_step_mm"
   ]
  },
  {
   "cell_type": "markdown",
   "metadata": {},
   "source": [
    "## Plot results"
   ]
  },
  {
   "cell_type": "code",
   "execution_count": null,
   "metadata": {
    "scrolled": true
   },
   "outputs": [],
   "source": [
    "# plot RGB gigamosaic\n",
    "plt.figure(figsize=(15,15))\n",
    "plt.imshow(gigamosaic_np[::20, ::20])\n",
    "plt.show()"
   ]
  },
  {
   "cell_type": "code",
   "execution_count": null,
   "metadata": {},
   "outputs": [],
   "source": [
    "# plot height map\n",
    "plt.figure(figsize=(15,15))\n",
    "plt.imshow(height_map_float32[::20, ::20], cmap='turbo')\n",
    "plt.colorbar()\n",
    "plt.show()"
   ]
  },
  {
   "cell_type": "code",
   "execution_count": null,
   "metadata": {},
   "outputs": [],
   "source": [
    "# plot sharpness map\n",
    "if not use_CNN_prediction_for_3d:\n",
    "    plt.figure(figsize=(15,15))\n",
    "    plt.imshow(sharpness_map[::20, ::20], cmap='turbo')\n",
    "    plt.colorbar()\n",
    "    plt.clim([.025, .1])\n",
    "    plt.show()"
   ]
  },
  {
   "cell_type": "markdown",
   "metadata": {},
   "source": [
    "## Save results"
   ]
  },
  {
   "cell_type": "code",
   "execution_count": null,
   "metadata": {},
   "outputs": [],
   "source": [
    "# file savenames\n",
    "savename_rgb = directory + '/gigamosaic_rgb'\n",
    "savename_height = directory + '/gigamosaic_height'\n",
    "if skip_blending:\n",
    "    savename_rgb += '_no_blending'\n",
    "    savename_height += '_no_blending'\n",
    "if not use_CNN_prediction_for_3d:\n",
    "    savename_sharpness = directory + '/gigamosaic_sharpness'\n",
    "    if skip_blending:\n",
    "        savename_sharpness+= '_no_blending'\n",
    "    print(savename_sharpness)\n",
    "print(savename_rgb)\n",
    "print(savename_height)"
   ]
  },
  {
   "cell_type": "code",
   "execution_count": null,
   "metadata": {},
   "outputs": [],
   "source": [
    "# save as tiffs (warning: big files, could be up to 24 GB each)\n",
    "\n",
    "# save RGB stitch:\n",
    "imageio.imwrite(savename_rgb + '.tif', gigamosaic_np, bigtiff=True)\n",
    "\n",
    "# save high-precision height map:\n",
    "imageio.imwrite(savename_height + '_in_mm_float32.tif', height_map_float32, bigtiff=True)\n",
    "\n",
    "# save uint8 height map for viewing purposes:\n",
    "imageio.imwrite(savename_height + '_uint8.tif', height_map_normalized, bigtiff=True)\n",
    "# use up all the dynamic range of uint8 (0-255)\n",
    "\n",
    "# save sharpness map as float32:\n",
    "if not use_CNN_prediction_for_3d:\n",
    "    imageio.imwrite(savename_sharpness + '.tif', sharpness_map, bigtiff=True)"
   ]
  },
  {
   "cell_type": "code",
   "execution_count": null,
   "metadata": {},
   "outputs": [],
   "source": []
  }
 ],
 "metadata": {
  "kernelspec": {
   "display_name": "Python 3",
   "language": "python",
   "name": "python3"
  },
  "language_info": {
   "codemirror_mode": {
    "name": "ipython",
    "version": 3
   },
   "file_extension": ".py",
   "mimetype": "text/x-python",
   "name": "python",
   "nbconvert_exporter": "python",
   "pygments_lexer": "ipython3",
   "version": "3.8.5"
  }
 },
 "nbformat": 4,
 "nbformat_minor": 4
}
